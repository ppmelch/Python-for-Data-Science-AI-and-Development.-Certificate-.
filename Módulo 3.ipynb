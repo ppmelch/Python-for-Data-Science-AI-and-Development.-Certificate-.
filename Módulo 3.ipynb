{
 "cells": [
  {
   "cell_type": "markdown",
   "id": "2e64a2de",
   "metadata": {},
   "source": [
    "##  Python for Data Science , AI & Development "
   ]
  },
  {
   "cell_type": "markdown",
   "id": "4f961c73",
   "metadata": {},
   "source": [
    "### Python Programming Fundamentals"
   ]
  },
  {
   "cell_type": "markdown",
   "id": "5fa26407",
   "metadata": {},
   "source": [
    "---\n"
   ]
  },
  {
   "cell_type": "markdown",
   "id": "777a466e",
   "metadata": {},
   "source": [
    "### **Comparision operations**"
   ]
  },
  {
   "cell_type": "markdown",
   "id": "fe12aca3",
   "metadata": {},
   "source": [
    "Nos ayudan a comparar valores y tomar decisones en base a los resultados."
   ]
  },
  {
   "cell_type": "markdown",
   "id": "6dcfebaf",
   "metadata": {},
   "source": [
    "---"
   ]
  },
  {
   "cell_type": "markdown",
   "id": "a966d9c2",
   "metadata": {},
   "source": [
    "##### Equality operator "
   ]
  },
  {
   "cell_type": "code",
   "execution_count": 1,
   "id": "e1e7a300",
   "metadata": {},
   "outputs": [
    {
     "name": "stdout",
     "output_type": "stream",
     "text": [
      "You are 25 years old.\n"
     ]
    }
   ],
   "source": [
    "age = 25\n",
    "if age == 25:\n",
    "    print(\"You are 25 years old.\")"
   ]
  },
  {
   "cell_type": "markdown",
   "id": "49dcfd1a",
   "metadata": {},
   "source": [
    "Sirve para ver si dos valores son iguales."
   ]
  },
  {
   "cell_type": "markdown",
   "id": "507fd2ba",
   "metadata": {},
   "source": [
    "---"
   ]
  },
  {
   "cell_type": "markdown",
   "id": "9922882c",
   "metadata": {},
   "source": [
    "##### Inequality  operator "
   ]
  },
  {
   "cell_type": "code",
   "execution_count": null,
   "id": "4cc52483",
   "metadata": {},
   "outputs": [],
   "source": [
    "if age != 30:\n",
    "    print(\"You are not 30 years old.\")"
   ]
  },
  {
   "cell_type": "markdown",
   "id": "b4c22ec2",
   "metadata": {},
   "source": [
    "Sirve para ver si dos valores no son iguales."
   ]
  },
  {
   "cell_type": "markdown",
   "id": "b1f1d7d4",
   "metadata": {},
   "source": [
    "---"
   ]
  },
  {
   "cell_type": "markdown",
   "id": "fbc634ea",
   "metadata": {},
   "source": [
    "##### Greater than and less than"
   ]
  },
  {
   "cell_type": "code",
   "execution_count": 3,
   "id": "14a420f1",
   "metadata": {},
   "outputs": [
    {
     "name": "stdout",
     "output_type": "stream",
     "text": [
      "Yes, the Age is greater than 20\n"
     ]
    }
   ],
   "source": [
    "if age>= 20:\n",
    "    print(\"Yes, the Age is greater than 20\")"
   ]
  },
  {
   "cell_type": "markdown",
   "id": "f0a53542",
   "metadata": {},
   "source": [
    "Sirve para ver si es mayor/ menor o igual "
   ]
  },
  {
   "cell_type": "markdown",
   "id": "8daf5c1e",
   "metadata": {},
   "source": [
    "---"
   ]
  },
  {
   "cell_type": "markdown",
   "id": "049e53bd",
   "metadata": {},
   "source": [
    "### **Branching**"
   ]
  },
  {
   "cell_type": "markdown",
   "id": "a24c4660",
   "metadata": {},
   "source": [
    "Básicamente es tomar decisiones basado en las condiciones que programas. "
   ]
  },
  {
   "cell_type": "markdown",
   "id": "cb5511f7",
   "metadata": {},
   "source": [
    "---"
   ]
  },
  {
   "cell_type": "markdown",
   "id": "d5b5664a",
   "metadata": {},
   "source": [
    "##### The IF statement"
   ]
  },
  {
   "cell_type": "code",
   "execution_count": 4,
   "id": "9dc597e6",
   "metadata": {},
   "outputs": [
    {
     "name": "stdout",
     "output_type": "stream",
     "text": [
      "Sorry, you cannot enter.\n"
     ]
    }
   ],
   "source": [
    "age = 20\n",
    "if age >= 21:\n",
    "    print(\"You can enter the bar.\")\n",
    "else:\n",
    "    print(\"Sorry, you cannot enter.\")"
   ]
  },
  {
   "cell_type": "markdown",
   "id": "af3e6926",
   "metadata": {},
   "source": [
    "Sirve para tomar una decision , en este caso depende si la edad es mayor o igual a la que el usuario le da."
   ]
  },
  {
   "cell_type": "markdown",
   "id": "1ec70cf4",
   "metadata": {},
   "source": [
    "----"
   ]
  },
  {
   "cell_type": "markdown",
   "id": "84d640ff",
   "metadata": {},
   "source": [
    "##### The ELIF Statement"
   ]
  },
  {
   "cell_type": "code",
   "execution_count": 5,
   "id": "f6aae2fe",
   "metadata": {},
   "outputs": [
    {
     "name": "stdout",
     "output_type": "stream",
     "text": [
      "You can watch a movie.\n"
     ]
    }
   ],
   "source": [
    "if age >= 21:\n",
    "    print(\"You can enter the bar.\")\n",
    "elif age >= 18:\n",
    "    print(\"You can watch a movie.\")\n",
    "else:\n",
    "    print(\"Sorry, you cannot do either.\")"
   ]
  },
  {
   "cell_type": "markdown",
   "id": "3c057ae7",
   "metadata": {},
   "source": [
    "Te da una segunda oportunidad de tomar una decisión , si no es la primera decisión , puedes tomar la segunda si se cumple."
   ]
  },
  {
   "cell_type": "markdown",
   "id": "1222f8f3",
   "metadata": {},
   "source": [
    "---"
   ]
  },
  {
   "cell_type": "markdown",
   "id": "362e1971",
   "metadata": {},
   "source": [
    "### **Loops**"
   ]
  },
  {
   "cell_type": "markdown",
   "id": "49c90a3b",
   "metadata": {},
   "source": [
    "Te ayuda a automatizar procesos para una secuencia de valores en una lista o rangos de numeros."
   ]
  },
  {
   "cell_type": "markdown",
   "id": "d8046db1",
   "metadata": {},
   "source": [
    "---"
   ]
  },
  {
   "cell_type": "markdown",
   "id": "8d72c777",
   "metadata": {},
   "source": [
    "##### For loops"
   ]
  },
  {
   "cell_type": "code",
   "execution_count": 11,
   "id": "1e9ff6d6",
   "metadata": {},
   "outputs": [
    {
     "name": "stdout",
     "output_type": "stream",
     "text": [
      "red\n",
      "orange\n",
      "yellow\n",
      "green\n",
      "blue\n",
      "indigo\n",
      "violet\n"
     ]
    }
   ],
   "source": [
    "colors = [\"red\", \"orange\", \"yellow\", \"green\", \"blue\", \"indigo\", \"violet\"]\n",
    "for color in colors:\n",
    "    print(color)"
   ]
  },
  {
   "cell_type": "code",
   "execution_count": 12,
   "id": "dcdd8b27",
   "metadata": {},
   "outputs": [
    {
     "name": "stdout",
     "output_type": "stream",
     "text": [
      "1\n",
      "2\n",
      "3\n",
      "4\n",
      "5\n",
      "6\n",
      "7\n",
      "8\n",
      "9\n",
      "10\n"
     ]
    }
   ],
   "source": [
    "for number in range(1, 11):\n",
    "    print(number)"
   ]
  },
  {
   "cell_type": "markdown",
   "id": "ecf0bec9",
   "metadata": {},
   "source": [
    "---"
   ]
  },
  {
   "cell_type": "markdown",
   "id": "94fabd50",
   "metadata": {},
   "source": [
    "##### Range Function"
   ]
  },
  {
   "cell_type": "code",
   "execution_count": 14,
   "id": "aba8836f",
   "metadata": {},
   "outputs": [
    {
     "name": "stdout",
     "output_type": "stream",
     "text": [
      "0\n",
      "1\n",
      "2\n",
      "3\n",
      "4\n"
     ]
    }
   ],
   "source": [
    "for number in range(5):\n",
    "    print(number)"
   ]
  },
  {
   "cell_type": "code",
   "execution_count": 15,
   "id": "dfa08734",
   "metadata": {},
   "outputs": [
    {
     "name": "stdout",
     "output_type": "stream",
     "text": [
      "1\n",
      "2\n",
      "3\n",
      "4\n",
      "5\n",
      "6\n",
      "7\n",
      "8\n",
      "9\n",
      "10\n"
     ]
    }
   ],
   "source": [
    "for number in range(1, 11):\n",
    "    print(number)"
   ]
  },
  {
   "cell_type": "markdown",
   "id": "c4747240",
   "metadata": {},
   "source": [
    "---"
   ]
  },
  {
   "cell_type": "markdown",
   "id": "d205233d",
   "metadata": {},
   "source": [
    "##### The Enumerated For Loop"
   ]
  },
  {
   "cell_type": "code",
   "execution_count": 16,
   "id": "84a9a44b",
   "metadata": {},
   "outputs": [
    {
     "name": "stdout",
     "output_type": "stream",
     "text": [
      "At position 0, I found a apple\n",
      "At position 1, I found a banana\n",
      "At position 2, I found a orange\n"
     ]
    }
   ],
   "source": [
    "fruits = [\"apple\", \"banana\", \"orange\"]\n",
    "for index, fruit in enumerate(fruits):\n",
    "    print(f\"At position {index}, I found a {fruit}\")"
   ]
  },
  {
   "cell_type": "markdown",
   "id": "fbe67988",
   "metadata": {},
   "source": [
    "Sirve para tener la posición del valor que regresa el loop"
   ]
  },
  {
   "cell_type": "markdown",
   "id": "b392b8d0",
   "metadata": {},
   "source": [
    "---"
   ]
  },
  {
   "cell_type": "markdown",
   "id": "0a8acd42",
   "metadata": {},
   "source": [
    "### **While Loops**"
   ]
  },
  {
   "cell_type": "markdown",
   "id": "1e2efb81",
   "metadata": {},
   "source": [
    "Repite la tarea hasta que la condición sea cierta. No para hasta que le digas y que pare."
   ]
  },
  {
   "cell_type": "markdown",
   "id": "8e0adf49",
   "metadata": {},
   "source": [
    "---"
   ]
  },
  {
   "cell_type": "code",
   "execution_count": 22,
   "id": "ecf6f7e0",
   "metadata": {},
   "outputs": [
    {
     "name": "stdout",
     "output_type": "stream",
     "text": [
      "1\n",
      "2\n",
      "3\n",
      "4\n",
      "5\n",
      "6\n",
      "7\n",
      "8\n",
      "9\n",
      "10\n"
     ]
    }
   ],
   "source": [
    "count = 1\n",
    "while count <= 10:\n",
    "    print(count)\n",
    "    count += 1"
   ]
  },
  {
   "cell_type": "markdown",
   "id": "bedb5aed",
   "metadata": {},
   "source": [
    "---"
   ]
  },
  {
   "cell_type": "markdown",
   "id": "5348f5fb",
   "metadata": {},
   "source": [
    "### **Functions**"
   ]
  },
  {
   "cell_type": "markdown",
   "id": "810a018c",
   "metadata": {},
   "source": [
    "Sirve para no repetir código una y otra vez , nomas tienes que darle los parametros a la función y ya te regresa el resultado que le indiques."
   ]
  },
  {
   "cell_type": "markdown",
   "id": "66d659f5",
   "metadata": {},
   "source": [
    "---"
   ]
  },
  {
   "cell_type": "markdown",
   "id": "4c6dbcff",
   "metadata": {},
   "source": [
    "#### #1era Función"
   ]
  },
  {
   "cell_type": "code",
   "execution_count": 23,
   "id": "65df8269",
   "metadata": {},
   "outputs": [
    {
     "name": "stdout",
     "output_type": "stream",
     "text": [
      "12\n"
     ]
    }
   ],
   "source": [
    "def calculate_total(a, b):  # Parameters: a and b\n",
    "    total = a + b           # Task: Addition\n",
    "    return total            # Output: Sum of a and b\n",
    "result = calculate_total(5, 7)  # Calling the function with inputs 5 and 7\n",
    "print(result)  # Output: 12"
   ]
  },
  {
   "cell_type": "markdown",
   "id": "0b74c5d6",
   "metadata": {},
   "source": [
    "Por ejemplo , esta función te regresa el total de la suma de dos numeros , dandole los parametros al llamar la función."
   ]
  },
  {
   "cell_type": "markdown",
   "id": "b7e30bcb",
   "metadata": {},
   "source": [
    "---"
   ]
  },
  {
   "cell_type": "markdown",
   "id": "ca2c96d3",
   "metadata": {},
   "source": [
    "### **Pre-defined functions**"
   ]
  },
  {
   "cell_type": "markdown",
   "id": "30af77a8",
   "metadata": {},
   "source": [
    "Son funciones que están pre-definidas por python y están listas para usar nomas al poner la funcion()."
   ]
  },
  {
   "cell_type": "markdown",
   "id": "3ee4e3e5",
   "metadata": {},
   "source": [
    "---"
   ]
  },
  {
   "cell_type": "markdown",
   "id": "0b906607",
   "metadata": {},
   "source": [
    "##### len()"
   ]
  },
  {
   "cell_type": "code",
   "execution_count": 26,
   "id": "3760c0cb",
   "metadata": {},
   "outputs": [
    {
     "data": {
      "text/plain": [
       "(5, 13)"
      ]
     },
     "execution_count": 26,
     "metadata": {},
     "output_type": "execute_result"
    }
   ],
   "source": [
    "string = \"Hello, World!\"\n",
    "s=len(string)\n",
    "\n",
    "int = [10,20,30,40,50]\n",
    "i=len(int)\n",
    "\n",
    "i,s"
   ]
  },
  {
   "cell_type": "markdown",
   "id": "14b6f867",
   "metadata": {},
   "source": [
    "Esta función calcula el tamaño de una secuencia o collección"
   ]
  },
  {
   "cell_type": "markdown",
   "id": "365709ac",
   "metadata": {},
   "source": [
    "---"
   ]
  },
  {
   "cell_type": "markdown",
   "id": "8325810a",
   "metadata": {},
   "source": [
    "##### sum()"
   ]
  },
  {
   "cell_type": "code",
   "execution_count": null,
   "id": "45b6f2e9",
   "metadata": {},
   "outputs": [
    {
     "data": {
      "text/plain": [
       "150"
      ]
     },
     "execution_count": 29,
     "metadata": {},
     "output_type": "execute_result"
    }
   ],
   "source": [
    "numeros = sum([10, 20, 30, 40, 50])\n",
    "numeros"
   ]
  },
  {
   "cell_type": "markdown",
   "id": "ba85fc8c",
   "metadata": {},
   "source": [
    "Hace la suma a los valores de una lista directamente."
   ]
  },
  {
   "cell_type": "markdown",
   "id": "858bb616",
   "metadata": {},
   "source": [
    "---"
   ]
  },
  {
   "cell_type": "markdown",
   "id": "5dbddd12",
   "metadata": {},
   "source": [
    "##### max()"
   ]
  },
  {
   "cell_type": "code",
   "execution_count": 31,
   "id": "fa8d0df2",
   "metadata": {},
   "outputs": [
    {
     "data": {
      "text/plain": [
       "50"
      ]
     },
     "execution_count": 31,
     "metadata": {},
     "output_type": "execute_result"
    }
   ],
   "source": [
    "numeros = max([10, 20, 30, 40, 50,40])\n",
    "numeros"
   ]
  },
  {
   "cell_type": "markdown",
   "id": "7081fa4f",
   "metadata": {},
   "source": [
    "Devuelve el valor máximo de una lista de números."
   ]
  },
  {
   "cell_type": "markdown",
   "id": "2d6d364d",
   "metadata": {},
   "source": [
    "---"
   ]
  },
  {
   "cell_type": "markdown",
   "id": "f4d72f8d",
   "metadata": {},
   "source": [
    "##### min()"
   ]
  },
  {
   "cell_type": "code",
   "execution_count": 32,
   "id": "c8803618",
   "metadata": {},
   "outputs": [
    {
     "data": {
      "text/plain": [
       "10"
      ]
     },
     "execution_count": 32,
     "metadata": {},
     "output_type": "execute_result"
    }
   ],
   "source": [
    "numeros = min([10, 20, 30, 40, 50])\n",
    "numeros"
   ]
  },
  {
   "cell_type": "markdown",
   "id": "663bb428",
   "metadata": {},
   "source": [
    "Devuelve el valor mínimo de una lista de números."
   ]
  },
  {
   "cell_type": "markdown",
   "id": "6ef02a20",
   "metadata": {},
   "source": [
    "---"
   ]
  },
  {
   "cell_type": "markdown",
   "id": "694de6b0",
   "metadata": {},
   "source": []
  },
  {
   "cell_type": "markdown",
   "id": "cf0320ae",
   "metadata": {},
   "source": []
  }
 ],
 "metadata": {
  "kernelspec": {
   "display_name": "Python 3",
   "language": "python",
   "name": "python3"
  },
  "language_info": {
   "codemirror_mode": {
    "name": "ipython",
    "version": 3
   },
   "file_extension": ".py",
   "mimetype": "text/x-python",
   "name": "python",
   "nbconvert_exporter": "python",
   "pygments_lexer": "ipython3",
   "version": "3.13.5"
  }
 },
 "nbformat": 4,
 "nbformat_minor": 5
}
