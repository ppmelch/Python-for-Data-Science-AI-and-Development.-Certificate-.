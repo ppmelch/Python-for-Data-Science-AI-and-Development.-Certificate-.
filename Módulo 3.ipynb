{
 "cells": [
  {
   "cell_type": "markdown",
   "id": "2e64a2de",
   "metadata": {},
   "source": [
    "## Análisis de datos con Python"
   ]
  },
  {
   "cell_type": "markdown",
   "id": "4f961c73",
   "metadata": {},
   "source": [
    "### Conditions and Branching"
   ]
  },
  {
   "cell_type": "markdown",
   "id": "5fa26407",
   "metadata": {},
   "source": [
    "---\n"
   ]
  }
 ],
 "metadata": {
  "language_info": {
   "name": "python"
  }
 },
 "nbformat": 4,
 "nbformat_minor": 5
}
