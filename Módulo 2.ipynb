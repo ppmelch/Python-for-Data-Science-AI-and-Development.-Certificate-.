{
 "cells": [
  {
   "cell_type": "markdown",
   "id": "7419390b",
   "metadata": {},
   "source": [
    "## Python for Data Science , AI & Development "
   ]
  },
  {
   "cell_type": "markdown",
   "id": "6cd5fe88",
   "metadata": {},
   "source": [
    "\n",
    "### Data Structures"
   ]
  },
  {
   "cell_type": "markdown",
   "id": "5da19fc2",
   "metadata": {},
   "source": [
    "---\n"
   ]
  },
  {
   "cell_type": "markdown",
   "id": "fda55418",
   "metadata": {},
   "source": [
    "### **Listas**"
   ]
  },
  {
   "cell_type": "markdown",
   "id": "97072802",
   "metadata": {},
   "source": [
    "---"
   ]
  },
  {
   "cell_type": "markdown",
   "id": "f1ca3f79",
   "metadata": {},
   "source": [
    "##### .append()"
   ]
  },
  {
   "cell_type": "code",
   "execution_count": 38,
   "id": "d91cfb74",
   "metadata": {},
   "outputs": [
    {
     "name": "stdout",
     "output_type": "stream",
     "text": [
      "['apple', 'banana', 'orange', 'mango']\n"
     ]
    }
   ],
   "source": [
    "fruits = [\"apple\", \"banana\", \"orange\"] \n",
    "fruits.append(\"mango\")\n",
    "print(fruits)\n"
   ]
  },
  {
   "cell_type": "markdown",
   "id": "bb41d5fe",
   "metadata": {},
   "source": [
    "Sirve para introducir un nuevo elemento a la lista"
   ]
  },
  {
   "cell_type": "markdown",
   "id": "57aeeda0",
   "metadata": {},
   "source": [
    "---"
   ]
  },
  {
   "cell_type": "markdown",
   "id": "929787dc",
   "metadata": {},
   "source": [
    "##### .copy()"
   ]
  },
  {
   "cell_type": "code",
   "execution_count": 39,
   "id": "1a102650",
   "metadata": {},
   "outputs": [
    {
     "name": "stdout",
     "output_type": "stream",
     "text": [
      "[1, 2, 3, 4, 5]\n"
     ]
    }
   ],
   "source": [
    "my_list = [1, 2, 3, 4, 5] \n",
    "new_list = my_list.copy() \n",
    "print(new_list) "
   ]
  },
  {
   "cell_type": "markdown",
   "id": "c90dce2c",
   "metadata": {},
   "source": [
    "Sirve para crear una copia de la lista"
   ]
  },
  {
   "cell_type": "markdown",
   "id": "0f98e60c",
   "metadata": {},
   "source": [
    "---"
   ]
  },
  {
   "cell_type": "markdown",
   "id": "fe8b455a",
   "metadata": {},
   "source": [
    "##### .count()"
   ]
  },
  {
   "cell_type": "code",
   "execution_count": 40,
   "id": "5e1064df",
   "metadata": {},
   "outputs": [
    {
     "name": "stdout",
     "output_type": "stream",
     "text": [
      "4\n"
     ]
    }
   ],
   "source": [
    "my_list = [1, 2, 2, 3, 4, 2, 5, 2] \n",
    "count = my_list.count(2)\n",
    "print(count)"
   ]
  },
  {
   "cell_type": "markdown",
   "id": "893307af",
   "metadata": {},
   "source": [
    "Sirve para contar los numeros similares que hay en una lista [2,2,2,2] = 4"
   ]
  },
  {
   "cell_type": "markdown",
   "id": "c8d3810d",
   "metadata": {},
   "source": [
    "---"
   ]
  },
  {
   "cell_type": "markdown",
   "id": "9107b177",
   "metadata": {},
   "source": [
    "#### .del()"
   ]
  },
  {
   "cell_type": "code",
   "execution_count": 41,
   "id": "a2666474",
   "metadata": {},
   "outputs": [
    {
     "data": {
      "text/plain": [
       "[10, 20, 30, 50]"
      ]
     },
     "execution_count": 41,
     "metadata": {},
     "output_type": "execute_result"
    }
   ],
   "source": [
    "my_list = [10, 20, 30, 40, 50] \n",
    "del my_list[3] \n",
    "my_list"
   ]
  },
  {
   "cell_type": "markdown",
   "id": "bfb27693",
   "metadata": {},
   "source": [
    "Borra el elemento de mi lista en la posición no. 4"
   ]
  },
  {
   "cell_type": "markdown",
   "id": "df17c818",
   "metadata": {},
   "source": [
    "---"
   ]
  },
  {
   "cell_type": "markdown",
   "id": "4a290ecc",
   "metadata": {},
   "source": [
    "##### .extend()\n",
    "\n"
   ]
  },
  {
   "cell_type": "code",
   "execution_count": 42,
   "id": "4274acb0",
   "metadata": {},
   "outputs": [
    {
     "name": "stdout",
     "output_type": "stream",
     "text": [
      "['apple', 'banana', 'orange', 'mango', 'grape']\n"
     ]
    }
   ],
   "source": [
    "fruits = [\"apple\", \"banana\", \"orange\"] \n",
    "more_fruits = [\"mango\", \"grape\"] \n",
    "fruits.extend(more_fruits) \n",
    "print(fruits)"
   ]
  },
  {
   "cell_type": "markdown",
   "id": "0e69d558",
   "metadata": {},
   "source": [
    "Sirve para extender la lista con los nuevos elementos dados en otra lista , sin afectar la principal"
   ]
  },
  {
   "cell_type": "markdown",
   "id": "3f5c5527",
   "metadata": {},
   "source": [
    "---"
   ]
  },
  {
   "cell_type": "markdown",
   "id": "c03045e9",
   "metadata": {},
   "source": [
    "#### Indexing"
   ]
  },
  {
   "cell_type": "code",
   "execution_count": 43,
   "id": "f8b54745",
   "metadata": {},
   "outputs": [
    {
     "name": "stdout",
     "output_type": "stream",
     "text": [
      "10\n",
      "50\n"
     ]
    }
   ],
   "source": [
    "my_list = [10, 20, 30, 40, 50] \n",
    "print(my_list[0]) \n",
    "print(my_list[-1]) "
   ]
  },
  {
   "cell_type": "markdown",
   "id": "f3f45524",
   "metadata": {},
   "source": [
    "Sirve para agarrar los elementos de determinada posición , en este caso se agarraron los valores de la posición 0 y se la última posición"
   ]
  },
  {
   "cell_type": "markdown",
   "id": "cde8ba33",
   "metadata": {},
   "source": [
    "---"
   ]
  },
  {
   "cell_type": "markdown",
   "id": "47b063d4",
   "metadata": {},
   "source": [
    "#### .insert( index, element) / .insert()"
   ]
  },
  {
   "cell_type": "code",
   "execution_count": 44,
   "id": "d46c23c3",
   "metadata": {},
   "outputs": [
    {
     "name": "stdout",
     "output_type": "stream",
     "text": [
      "[1, 2, 6, 3, 4, 5]\n"
     ]
    }
   ],
   "source": [
    "my_list = [1, 2, 3, 4, 5] \n",
    "my_list.insert(2, 6) \n",
    "print(my_list)"
   ]
  },
  {
   "cell_type": "markdown",
   "id": "b2c3e9a0",
   "metadata": {},
   "source": [
    "Sirve para insertar nuevos elementos a una lista , en determinada posición. En este caso se insertó el 6 en la posición 3"
   ]
  },
  {
   "cell_type": "markdown",
   "id": "72222ab8",
   "metadata": {},
   "source": [
    "---"
   ]
  },
  {
   "cell_type": "markdown",
   "id": "0ffa3738",
   "metadata": {},
   "source": [
    "#### Modifying a list"
   ]
  },
  {
   "cell_type": "code",
   "execution_count": 45,
   "id": "03c02017",
   "metadata": {},
   "outputs": [
    {
     "name": "stdout",
     "output_type": "stream",
     "text": [
      "[10, 25, 30, 40, 50]\n"
     ]
    }
   ],
   "source": [
    "my_list = [10, 20, 30, 40, 50] \n",
    "my_list[1] = 25 \n",
    "print(my_list) \n"
   ]
  },
  {
   "cell_type": "markdown",
   "id": "8b194c08",
   "metadata": {},
   "source": [
    "Sirve para modificar la lista hecha , en este caso se cambia la posición 2 y se pone el 25 "
   ]
  },
  {
   "cell_type": "markdown",
   "id": "cdaeb6ea",
   "metadata": {},
   "source": [
    "---"
   ]
  },
  {
   "cell_type": "markdown",
   "id": "4e6ba21a",
   "metadata": {},
   "source": [
    "#### .pop(position)"
   ]
  },
  {
   "cell_type": "code",
   "execution_count": 46,
   "id": "09bcfa83",
   "metadata": {},
   "outputs": [
    {
     "name": "stdout",
     "output_type": "stream",
     "text": [
      "30\n",
      "50\n",
      "[10, 20, 40]\n"
     ]
    }
   ],
   "source": [
    "my_list = [10, 20, 30, 40, 50] \n",
    "removed_element = my_list.pop(2) #index 2\n",
    "removed_element2 = my_list.pop()\n",
    "print(removed_element)\n",
    "print(removed_element2)\n",
    "print(my_list) \n"
   ]
  },
  {
   "cell_type": "markdown",
   "id": "a4e28a1c",
   "metadata": {},
   "source": [
    "Es otra manera de remover un elemento de la lista en determinada posición, en este caso elimina la posición 3\n",
    "\n",
    "Si no le pones una posición , te borra el último elemento"
   ]
  },
  {
   "cell_type": "markdown",
   "id": "d8efafba",
   "metadata": {},
   "source": [
    "---"
   ]
  },
  {
   "cell_type": "markdown",
   "id": "94c55b14",
   "metadata": {},
   "source": [
    "#### .remove()"
   ]
  },
  {
   "cell_type": "code",
   "execution_count": 47,
   "id": "0f2f161e",
   "metadata": {},
   "outputs": [
    {
     "name": "stdout",
     "output_type": "stream",
     "text": [
      "[10, 20, 40, 50]\n"
     ]
    }
   ],
   "source": [
    "my_list = [10, 20, 30, 40, 50] \n",
    "my_list.remove(30) \n",
    "print(my_list) "
   ]
  },
  {
   "cell_type": "markdown",
   "id": "d53e31c8",
   "metadata": {},
   "source": [
    "Sirve de igual manera para eliminar un elemento de la lista , pero en este caso se le pone el elemento dentro del parentesis."
   ]
  },
  {
   "cell_type": "markdown",
   "id": "2d857f8a",
   "metadata": {},
   "source": [
    "---"
   ]
  },
  {
   "cell_type": "markdown",
   "id": "a5376dd5",
   "metadata": {},
   "source": [
    "#### .reverse()"
   ]
  },
  {
   "cell_type": "code",
   "execution_count": 48,
   "id": "e2153464",
   "metadata": {},
   "outputs": [
    {
     "name": "stdout",
     "output_type": "stream",
     "text": [
      "[50, 40, 30, 20, 10]\n"
     ]
    }
   ],
   "source": [
    "my_list = [10, 20, 30, 40, 50] \n",
    "my_list.reverse() \n",
    "print(my_list) "
   ]
  },
  {
   "cell_type": "markdown",
   "id": "f5d52ade",
   "metadata": {},
   "source": [
    "Sirve para darle la vuelta a la lista y que empiece desde el último número\n"
   ]
  },
  {
   "cell_type": "markdown",
   "id": "5d44948e",
   "metadata": {},
   "source": [
    "---"
   ]
  },
  {
   "cell_type": "markdown",
   "id": "4b91196c",
   "metadata": {},
   "source": [
    "#### .slicing()"
   ]
  },
  {
   "cell_type": "code",
   "execution_count": 49,
   "id": "63ed181c",
   "metadata": {},
   "outputs": [
    {
     "name": "stdout",
     "output_type": "stream",
     "text": [
      "[10, 20]\n"
     ]
    }
   ],
   "source": [
    "my_list = [10, 20, 30, 40, 50] \n",
    "my_list= my_list[0:2]\n",
    "print(my_list) "
   ]
  },
  {
   "cell_type": "markdown",
   "id": "6f180434",
   "metadata": {},
   "source": [
    "Sirve para agarrar distintas posiciones dependiendo lo que pongas antes y después de los :\n",
    "\n",
    "Empieza desde la posición 1 y termina en la dos , agarra todos esos valores\n"
   ]
  },
  {
   "cell_type": "markdown",
   "id": "adbf5778",
   "metadata": {},
   "source": [
    "---"
   ]
  },
  {
   "cell_type": "code",
   "execution_count": 50,
   "id": "340d597c",
   "metadata": {},
   "outputs": [
    {
     "name": "stdout",
     "output_type": "stream",
     "text": [
      "[10, 20, 40, 50]\n"
     ]
    }
   ],
   "source": [
    "my_list = [10, 20, 30, 40, 50] \n",
    "my_list.remove(30) \n",
    "print(my_list) "
   ]
  },
  {
   "cell_type": "markdown",
   "id": "8f22e65e",
   "metadata": {},
   "source": [
    "Sirve de igual manera para eliminar un elemento de la lista , pero en este caso se le pone el elemento dentro del parentesis."
   ]
  },
  {
   "cell_type": "markdown",
   "id": "fe3a3a8f",
   "metadata": {},
   "source": [
    "---"
   ]
  },
  {
   "cell_type": "markdown",
   "id": "7a32e707",
   "metadata": {},
   "source": [
    "#### .sort()"
   ]
  },
  {
   "cell_type": "code",
   "execution_count": 51,
   "id": "1b00c0c5",
   "metadata": {},
   "outputs": [
    {
     "data": {
      "text/plain": [
       "[5, 10, 20, 30, 40, 50, 60, 100]"
      ]
     },
     "execution_count": 51,
     "metadata": {},
     "output_type": "execute_result"
    }
   ],
   "source": [
    "my_list = [10,60,100,5 ,20, 30, 40, 50] \n",
    "my_list.sort()\n",
    "my_list"
   ]
  },
  {
   "cell_type": "code",
   "execution_count": 52,
   "id": "fc9de0c5",
   "metadata": {},
   "outputs": [
    {
     "data": {
      "text/plain": [
       "[100, 60, 50, 40, 30, 20, 10, 5]"
      ]
     },
     "execution_count": 52,
     "metadata": {},
     "output_type": "execute_result"
    }
   ],
   "source": [
    "my_list.sort(reverse=True)\n",
    "my_list"
   ]
  },
  {
   "cell_type": "markdown",
   "id": "97bd07f8",
   "metadata": {},
   "source": [
    "Sirve para ordenar los valores de menor a mayor , o también se le puede aplicar la función de reverse=True , para que sea de mayor a menor"
   ]
  },
  {
   "cell_type": "markdown",
   "id": "e56dd1f9",
   "metadata": {},
   "source": [
    "---"
   ]
  },
  {
   "cell_type": "markdown",
   "id": "8deedfc6",
   "metadata": {},
   "source": [
    "### **Tupla**"
   ]
  },
  {
   "cell_type": "markdown",
   "id": "e4001ecd",
   "metadata": {},
   "source": [
    "---"
   ]
  },
  {
   "cell_type": "markdown",
   "id": "ff22c377",
   "metadata": {},
   "source": [
    "#### .count(value)"
   ]
  },
  {
   "cell_type": "code",
   "execution_count": 53,
   "id": "206360e0",
   "metadata": {},
   "outputs": [
    {
     "name": "stdout",
     "output_type": "stream",
     "text": [
      "2\n"
     ]
    }
   ],
   "source": [
    "fruits = (\"apple\", \"banana\", \"apple\", \"orange\")\n",
    "print(fruits.count(\"apple\")) "
   ]
  },
  {
   "cell_type": "markdown",
   "id": "247d4752",
   "metadata": {},
   "source": [
    "Sirve para contar los elementos que están en la tupla"
   ]
  },
  {
   "cell_type": "markdown",
   "id": "182d9b51",
   "metadata": {},
   "source": [
    "---"
   ]
  },
  {
   "cell_type": "markdown",
   "id": "55bd367d",
   "metadata": {},
   "source": [
    "#### tuple.index(value) / .index()"
   ]
  },
  {
   "cell_type": "code",
   "execution_count": 54,
   "id": "2adfb4e8",
   "metadata": {},
   "outputs": [
    {
     "name": "stdout",
     "output_type": "stream",
     "text": [
      "0\n"
     ]
    }
   ],
   "source": [
    "fruits = (\"apple\", \"banana\", \"orange\",\"apple\")\n",
    "print(fruits.index(\"apple\"))"
   ]
  },
  {
   "cell_type": "markdown",
   "id": "05b3477e",
   "metadata": {},
   "source": [
    "Te indica la posición en la que se encuentra el elemento que buscas"
   ]
  },
  {
   "cell_type": "markdown",
   "id": "30683503",
   "metadata": {},
   "source": [
    "---"
   ]
  },
  {
   "cell_type": "markdown",
   "id": "652900a3",
   "metadata": {},
   "source": [
    "#### Sum(tuple)"
   ]
  },
  {
   "cell_type": "code",
   "execution_count": 55,
   "id": "76f5374a",
   "metadata": {},
   "outputs": [
    {
     "name": "stdout",
     "output_type": "stream",
     "text": [
      "65\n"
     ]
    }
   ],
   "source": [
    "numbers = (10, 20, 5, 30)\n",
    "print(sum(numbers))"
   ]
  },
  {
   "cell_type": "markdown",
   "id": "9958b6f5",
   "metadata": {},
   "source": [
    "Sirve para sumar lo que está dentro de la tupla"
   ]
  },
  {
   "cell_type": "markdown",
   "id": "90700d46",
   "metadata": {},
   "source": [
    "---"
   ]
  },
  {
   "cell_type": "markdown",
   "id": "99c442c8",
   "metadata": {},
   "source": [
    "#### Max(tuple) / Min (tuple)"
   ]
  },
  {
   "cell_type": "code",
   "execution_count": 56,
   "id": "f7b5e2de",
   "metadata": {},
   "outputs": [
    {
     "name": "stdout",
     "output_type": "stream",
     "text": [
      "mínimo:  5\n",
      "máximo:  30\n"
     ]
    }
   ],
   "source": [
    "numbers = (10, 20, 5, 30)\n",
    "print('mínimo: ',min(numbers) )  \n",
    "print('máximo: ',max(numbers))"
   ]
  },
  {
   "cell_type": "markdown",
   "id": "d5e4172c",
   "metadata": {},
   "source": [
    "Sirve para ver el maximo o minimo de los elementos de una tupla"
   ]
  },
  {
   "cell_type": "markdown",
   "id": "30a6c3aa",
   "metadata": {},
   "source": [
    "---"
   ]
  },
  {
   "cell_type": "markdown",
   "id": "4e9121ed",
   "metadata": {},
   "source": [
    "#### len(tuple)"
   ]
  },
  {
   "cell_type": "code",
   "execution_count": 57,
   "id": "1224d82b",
   "metadata": {},
   "outputs": [
    {
     "name": "stdout",
     "output_type": "stream",
     "text": [
      "3\n"
     ]
    }
   ],
   "source": [
    "fruits = (\"apple\", \"banana\", \"orange\")\n",
    "print(len(fruits))"
   ]
  },
  {
   "cell_type": "markdown",
   "id": "17a6b3d5",
   "metadata": {},
   "source": [
    "Te indica cuantos elementos hay en la tupla"
   ]
  },
  {
   "cell_type": "markdown",
   "id": "b447e512",
   "metadata": {},
   "source": [
    "---"
   ]
  },
  {
   "cell_type": "markdown",
   "id": "f4de8580",
   "metadata": {},
   "source": [
    "### Cuestionario "
   ]
  },
  {
   "cell_type": "markdown",
   "id": "bbb133db",
   "metadata": {},
   "source": [
    "1."
   ]
  },
  {
   "cell_type": "code",
   "execution_count": 58,
   "id": "d6d0ed24",
   "metadata": {},
   "outputs": [
    {
     "data": {
      "text/plain": [
       "'will'"
      ]
     },
     "execution_count": 58,
     "metadata": {},
     "output_type": "execute_result"
    }
   ],
   "source": [
    "say_what=('say','what','you','will') \n",
    "say_what[-1]"
   ]
  },
  {
   "cell_type": "markdown",
   "id": "72ec2fdd",
   "metadata": {},
   "source": [
    "2."
   ]
  },
  {
   "cell_type": "code",
   "execution_count": 59,
   "id": "4f1b8104",
   "metadata": {},
   "outputs": [
    {
     "data": {
      "text/plain": [
       "(2, 3, 4)"
      ]
     },
     "execution_count": 59,
     "metadata": {},
     "output_type": "execute_result"
    }
   ],
   "source": [
    "A=(1,2,3,4,5)\n",
    "A[1:4]"
   ]
  },
  {
   "cell_type": "markdown",
   "id": "a6eeabc4",
   "metadata": {},
   "source": [
    "3."
   ]
  },
  {
   "cell_type": "code",
   "execution_count": 60,
   "id": "0664ecd1",
   "metadata": {},
   "outputs": [
    {
     "data": {
      "text/plain": [
       "'b'"
      ]
     },
     "execution_count": 60,
     "metadata": {},
     "output_type": "execute_result"
    }
   ],
   "source": [
    "B=[1,2,[3,'a'],[4,'b']]\n",
    "B[3][1]"
   ]
  },
  {
   "cell_type": "markdown",
   "id": "624e2a25",
   "metadata": {},
   "source": [
    "4."
   ]
  },
  {
   "cell_type": "code",
   "execution_count": 61,
   "id": "5a48013e",
   "metadata": {},
   "outputs": [
    {
     "data": {
      "text/plain": [
       "[1, 2, 3, 1, 1, 1]"
      ]
     },
     "execution_count": 61,
     "metadata": {},
     "output_type": "execute_result"
    }
   ],
   "source": [
    "[1,2,3] + [1,1,1]"
   ]
  },
  {
   "cell_type": "markdown",
   "id": "432e3100",
   "metadata": {},
   "source": [
    "5."
   ]
  },
  {
   "cell_type": "code",
   "execution_count": 62,
   "id": "78cfa471",
   "metadata": {},
   "outputs": [
    {
     "data": {
      "text/plain": [
       "[1, [2, 3, 4, 5]]"
      ]
     },
     "execution_count": 62,
     "metadata": {},
     "output_type": "execute_result"
    }
   ],
   "source": [
    "A = [1]\n",
    "A.append([2, 3, 4, 5])\n",
    "A"
   ]
  },
  {
   "cell_type": "markdown",
   "id": "a3503989",
   "metadata": {},
   "source": [
    "---"
   ]
  },
  {
   "cell_type": "markdown",
   "id": "897763ac",
   "metadata": {},
   "source": [
    "## Sets"
   ]
  },
  {
   "cell_type": "markdown",
   "id": "7a52acc1",
   "metadata": {},
   "source": [
    "Es otra tipo de colección de datos, se pueden introducir distintos tipos de dato de python.\n",
    "\n",
    "- No están ordenados\n",
    "- Tienen elementos únicos\n",
    "- Evita que haya duplicados \n",
    "\n",
    "#### set()"
   ]
  },
  {
   "cell_type": "code",
   "execution_count": 64,
   "id": "236ab839",
   "metadata": {},
   "outputs": [],
   "source": [
    "import pandas as pd"
   ]
  },
  {
   "cell_type": "code",
   "execution_count": 97,
   "id": "154234ad",
   "metadata": {},
   "outputs": [
    {
     "data": {
      "text/plain": [
       "{1982, 'apple', 'banana', 'orange', 'pepino'}"
      ]
     },
     "execution_count": 97,
     "metadata": {},
     "output_type": "execute_result"
    }
   ],
   "source": [
    "a = [\"apple\",\"apple\", \"banana\", \"orange\",  \"banana\", \"pepino\",1982]\n",
    "run=set(a)\n",
    "run"
   ]
  },
  {
   "cell_type": "markdown",
   "id": "7feedc93",
   "metadata": {},
   "source": [
    "### Set Operations"
   ]
  },
  {
   "cell_type": "markdown",
   "id": "70c41078",
   "metadata": {},
   "source": [
    "#### .add()"
   ]
  },
  {
   "cell_type": "code",
   "execution_count": 98,
   "id": "abcfc199",
   "metadata": {},
   "outputs": [
    {
     "data": {
      "text/plain": [
       "{1982, 'apple', 'banana', 'orange', 'pepino', 'perro'}"
      ]
     },
     "execution_count": 98,
     "metadata": {},
     "output_type": "execute_result"
    }
   ],
   "source": [
    "run.add(\"perro\")\n",
    "run\n"
   ]
  },
  {
   "cell_type": "markdown",
   "id": "9117283c",
   "metadata": {},
   "source": [
    "Sirve para añadir otro elemento a la colección"
   ]
  },
  {
   "cell_type": "markdown",
   "id": "2c5e14f5",
   "metadata": {},
   "source": [
    "#### .remove()"
   ]
  },
  {
   "cell_type": "code",
   "execution_count": 99,
   "id": "4362f597",
   "metadata": {},
   "outputs": [
    {
     "data": {
      "text/plain": [
       "{1982, 'apple', 'orange', 'pepino', 'perro'}"
      ]
     },
     "execution_count": 99,
     "metadata": {},
     "output_type": "execute_result"
    }
   ],
   "source": [
    "run.remove(\"banana\")\n",
    "run"
   ]
  },
  {
   "cell_type": "markdown",
   "id": "a2d53fdf",
   "metadata": {},
   "source": [
    "#### check()\n"
   ]
  },
  {
   "cell_type": "code",
   "execution_count": 103,
   "id": "7a3cf592",
   "metadata": {},
   "outputs": [
    {
     "data": {
      "text/plain": [
       "False"
      ]
     },
     "execution_count": 103,
     "metadata": {},
     "output_type": "execute_result"
    }
   ],
   "source": [
    "\"Azul\" in run"
   ]
  },
  {
   "cell_type": "markdown",
   "id": "b91201aa",
   "metadata": {},
   "source": [
    "### Sets Mathematical Sets Operations"
   ]
  },
  {
   "cell_type": "markdown",
   "id": "7327f676",
   "metadata": {},
   "source": [
    "#### &"
   ]
  },
  {
   "cell_type": "code",
   "execution_count": 115,
   "id": "4cdf36f9",
   "metadata": {},
   "outputs": [
    {
     "data": {
      "text/plain": [
       "{'banana', 'orange', 'pepino'}"
      ]
     },
     "execution_count": 115,
     "metadata": {},
     "output_type": "execute_result"
    }
   ],
   "source": [
    "a = [\"apple\",\"apple\", \"banana\", \"orange\",  \"banana\", \"pepino\",1982]\n",
    "b = [\"Messi\", \"banana\", \"orange\", \"pepino\",\"Suarez\",1985]\n",
    "\n",
    "s3 = set(a) & set(b)\n",
    "s3"
   ]
  },
  {
   "cell_type": "markdown",
   "id": "f29c7e68",
   "metadata": {},
   "source": [
    "sirve para unir las coincidencias que hay entre los dos sets"
   ]
  },
  {
   "cell_type": "markdown",
   "id": "abba6f7d",
   "metadata": {},
   "source": [
    "#### .union()"
   ]
  },
  {
   "cell_type": "code",
   "execution_count": 113,
   "id": "c594c069",
   "metadata": {},
   "outputs": [
    {
     "data": {
      "text/plain": [
       "{1982, 1985, 'Messi', 'Suarez', 'apple', 'banana', 'orange', 'pepino'}"
      ]
     },
     "execution_count": 113,
     "metadata": {},
     "output_type": "execute_result"
    }
   ],
   "source": [
    "set(a).union(set(b))"
   ]
  },
  {
   "cell_type": "markdown",
   "id": "14d41eb7",
   "metadata": {},
   "source": [
    "sirve para unir dos sets y todo el contenido de ellos"
   ]
  },
  {
   "cell_type": "markdown",
   "id": "9ead304f",
   "metadata": {},
   "source": [
    "#### .issubset()"
   ]
  },
  {
   "cell_type": "code",
   "execution_count": 114,
   "id": "a91cc746",
   "metadata": {},
   "outputs": [
    {
     "data": {
      "text/plain": [
       "False"
      ]
     },
     "execution_count": 114,
     "metadata": {},
     "output_type": "execute_result"
    }
   ],
   "source": [
    "set(a).issubset(set(b))"
   ]
  },
  {
   "cell_type": "markdown",
   "id": "586229bb",
   "metadata": {},
   "source": [
    "sirve para ver si todas las coincidencias de un set , están en el otro set"
   ]
  },
  {
   "cell_type": "markdown",
   "id": "227f716a",
   "metadata": {},
   "source": [
    "---"
   ]
  }
 ],
 "metadata": {
  "kernelspec": {
   "display_name": "Python 3",
   "language": "python",
   "name": "python3"
  },
  "language_info": {
   "codemirror_mode": {
    "name": "ipython",
    "version": 3
   },
   "file_extension": ".py",
   "mimetype": "text/x-python",
   "name": "python",
   "nbconvert_exporter": "python",
   "pygments_lexer": "ipython3",
   "version": "3.13.5"
  }
 },
 "nbformat": 4,
 "nbformat_minor": 5
}
