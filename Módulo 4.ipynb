{
 "cells": [
  {
   "cell_type": "markdown",
   "id": "28277d37",
   "metadata": {},
   "source": [
    "##  Python for Data Science , AI & Development "
   ]
  },
  {
   "cell_type": "markdown",
   "id": "2c96d2b4",
   "metadata": {},
   "source": [
    "### Working with Data in Python"
   ]
  },
  {
   "cell_type": "markdown",
   "id": "405409ac",
   "metadata": {},
   "source": [
    "---"
   ]
  },
  {
   "cell_type": "markdown",
   "id": "e54274d2",
   "metadata": {},
   "source": [
    "### **---**"
   ]
  },
  {
   "cell_type": "markdown",
   "id": "b4992eaf",
   "metadata": {},
   "source": [
    "-----a"
   ]
  },
  {
   "cell_type": "markdown",
   "id": "bd1088a8",
   "metadata": {},
   "source": [
    "---"
   ]
  },
  {
   "cell_type": "markdown",
   "id": "063833bb",
   "metadata": {},
   "source": [
    "##### ----"
   ]
  },
  {
   "cell_type": "markdown",
   "id": "d678b576",
   "metadata": {},
   "source": []
  }
 ],
 "metadata": {
  "language_info": {
   "name": "python"
  }
 },
 "nbformat": 4,
 "nbformat_minor": 5
}
