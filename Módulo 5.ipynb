{
 "cells": [
  {
   "cell_type": "markdown",
   "id": "5e451165",
   "metadata": {},
   "source": [
    "##  Python for Data Science , AI & Development "
   ]
  },
  {
   "cell_type": "markdown",
   "id": "eb6c6a8c",
   "metadata": {},
   "source": [
    "### APIs and Data Collection"
   ]
  },
  {
   "cell_type": "markdown",
   "id": "b46a7cf7",
   "metadata": {},
   "source": [
    "---"
   ]
  },
  {
   "cell_type": "markdown",
   "id": "e3beebe4",
   "metadata": {},
   "source": [
    "### **---**"
   ]
  },
  {
   "cell_type": "markdown",
   "id": "34f4085d",
   "metadata": {},
   "source": [
    "-----a"
   ]
  },
  {
   "cell_type": "markdown",
   "id": "b2acfaad",
   "metadata": {},
   "source": [
    "---"
   ]
  },
  {
   "cell_type": "markdown",
   "id": "c24744f3",
   "metadata": {},
   "source": [
    "##### ----"
   ]
  },
  {
   "cell_type": "markdown",
   "id": "49951728",
   "metadata": {},
   "source": []
  }
 ],
 "metadata": {
  "language_info": {
   "name": "python"
  }
 },
 "nbformat": 4,
 "nbformat_minor": 5
}
